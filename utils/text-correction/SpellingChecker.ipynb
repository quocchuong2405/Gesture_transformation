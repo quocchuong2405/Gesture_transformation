{
 "cells": [
  {
   "cell_type": "code",
   "execution_count": 40,
   "metadata": {},
   "outputs": [
    {
     "name": "stderr",
     "output_type": "stream",
     "text": [
      "[nltk_data] Downloading package words to\n",
      "[nltk_data]     C:\\Users\\ACER\\AppData\\Roaming\\nltk_data...\n",
      "[nltk_data]   Package words is already up-to-date!\n"
     ]
    }
   ],
   "source": [
    "from keras.models import Model,load_model\n",
    "from keras.layers import Input, LSTM, Dense, Dropout\n",
    "from keras import optimizers, metrics, backend as K\n",
    "from tensorflow.keras.optimizers import Adam\n",
    "import tkinter as tk\n",
    "from tkinter.scrolledtext import ScrolledText\n",
    "from spellchecker import SpellChecker\n",
    "import nltk\n",
    "from nltk.metrics.distance import jaccard_distance, edit_distance\n",
    "from nltk.corpus import words\n",
    "nltk.download(\"words\")\n",
    "import re\n",
    "import os\n",
    "import unidecode\n",
    "import numpy as np"
   ]
  },
  {
   "cell_type": "code",
   "execution_count": 55,
   "metadata": {},
   "outputs": [],
   "source": [
    "class SpellingChecker:\n",
    "    def __init__(self):\n",
    "        self.root = tk.Tk()\n",
    "        self.root.geometry(\"600x500\")\n",
    "\n",
    "        self.text = ScrolledText(self.root, font=(\"Arial\", 12))\n",
    "        self.text.bind(\"<KeyRelease>\", self.check)\n",
    "        self.text.pack()\n",
    "        self.old_spaces = 0\n",
    "        self.spell = SpellChecker()\n",
    "        self.root.mainloop()\n",
    "\n",
    "        \n",
    "    def check(self, event):\n",
    "        content = self.text.get(\"1.0\", tk.END)\n",
    "        space_count = content.count(\" \")\n",
    "\n",
    "        if space_count != self.old_spaces:\n",
    "            self.old_spaces = space_count\n",
    "\n",
    "            for tag in self.text.tag_names():\n",
    "                self.text.tag_delete(tag)\n",
    "\n",
    "            for word in content.split(\" \"):\n",
    "                if re.sub(r\"[^\\w]\", \"\", word.lower()) not in words.words():\n",
    "                    porsition = content.find(word)\n",
    "                    # this should be red (incorrect word)\n",
    "                    self.text.tag_add(word, f\"1.{porsition}\", f\"1.{porsition + len(word)}\")\n",
    "                    self.text.tag_config(word, foreground=\"red\")"
   ]
  },
  {
   "cell_type": "code",
   "execution_count": 56,
   "metadata": {},
   "outputs": [
    {
     "data": {
      "text/plain": [
       "<__main__.SpellingChecker at 0x2dabd3c4510>"
      ]
     },
     "execution_count": 56,
     "metadata": {},
     "output_type": "execute_result"
    }
   ],
   "source": [
    "SpellingChecker()"
   ]
  },
  {
   "cell_type": "code",
   "execution_count": 45,
   "metadata": {},
   "outputs": [],
   "source": [
    "spchecker = SpellChecker()"
   ]
  },
  {
   "cell_type": "code",
   "execution_count": 52,
   "metadata": {},
   "outputs": [
    {
     "data": {
      "text/plain": [
       "'name'"
      ]
     },
     "execution_count": 52,
     "metadata": {},
     "output_type": "execute_result"
    }
   ],
   "source": [
    "spchecker.correction(\"neme\")"
   ]
  },
  {
   "cell_type": "code",
   "execution_count": null,
   "metadata": {},
   "outputs": [],
   "source": []
  }
 ],
 "metadata": {
  "kernelspec": {
   "display_name": "Python 3",
   "language": "python",
   "name": "python3"
  },
  "language_info": {
   "codemirror_mode": {
    "name": "ipython",
    "version": 3
   },
   "file_extension": ".py",
   "mimetype": "text/x-python",
   "name": "python",
   "nbconvert_exporter": "python",
   "pygments_lexer": "ipython3",
   "version": "3.11.4"
  },
  "orig_nbformat": 4
 },
 "nbformat": 4,
 "nbformat_minor": 2
}
