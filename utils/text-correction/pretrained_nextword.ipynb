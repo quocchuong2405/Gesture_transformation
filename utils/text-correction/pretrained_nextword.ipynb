{
 "cells": [
  {
   "cell_type": "code",
   "execution_count": 1,
   "metadata": {},
   "outputs": [],
   "source": [
    "import pandas as pd\n",
    "import os\n",
    "import numpy as np\n",
    "import tarfile\n",
    "import numpy as np\n",
    "import re\n",
    "\n",
    "import string\n",
    "import tensorflow as tf\n",
    "from nltk.tokenize import RegexpTokenizer\n",
    "from sklearn.model_selection import train_test_split\n",
    "from tensorflow.keras.preprocessing.sequence import pad_sequences\n",
    "from tensorflow.keras.layers import Embedding, LSTM, Dense, Bidirectional\n",
    "from tensorflow.keras.preprocessing.text import Tokenizer\n",
    "from tensorflow.keras.models import Sequential\n",
    "from tensorflow.keras.callbacks import EarlyStopping\n",
    "from keras.utils import to_categorical\n",
    "from tensorflow.keras.optimizers import Adam\n",
    "import matplotlib.pyplot as plt\n",
    "from transformers import GPT2Tokenizer, GPT2Model, pipeline, set_seed"
   ]
  },
  {
   "cell_type": "code",
   "execution_count": 3,
   "metadata": {},
   "outputs": [
    {
     "name": "stderr",
     "output_type": "stream",
     "text": [
      "Setting `pad_token_id` to `eos_token_id`:50256 for open-end generation.\n"
     ]
    },
    {
     "name": "stdout",
     "output_type": "stream",
     "text": [
      "[{'generated_text': 'My name is Chuong, I\\'m a doctor, I\\'m working my way through medical school.\"\\n\\nYang nodded.\\n\\nWhen Lin-san finished, she walked out the door and walked back to her dorm'}]\n",
      "Predicted Next Word: ['My', 'name', 'is', 'Chuong,', \"I'm\", 'a', 'doctor,', \"I'm\", 'working', 'my', 'way', 'through', 'medical', 'school.\"', 'Yang', 'nodded.', 'When', 'Lin-san', 'finished,', 'she', 'walked', 'out', 'the', 'door', 'and', 'walked', 'back', 'to', 'her', 'dorm']\n"
     ]
    }
   ],
   "source": [
    "gpt2 = pipeline('text-generation', model='gpt2')\n",
    "text = \"My name is Chuong, I'm a doctor, I'm working\"\n",
    "set_seed(42)\n",
    "next_word_prediction = gpt2(text, max_length=len(text), num_return_sequences=1)\n",
    "\n",
    "# Extract the predicted word from the generated sequence\n",
    "predicted_word = next_word_prediction[0]['generated_text'].split() \n",
    "\n",
    "print(next_word_prediction)\n",
    "print(\"Predicted Next Word:\", predicted_word)"
   ]
  },
  {
   "cell_type": "markdown",
   "metadata": {},
   "source": []
  },
  {
   "cell_type": "code",
   "execution_count": null,
   "metadata": {},
   "outputs": [],
   "source": []
  }
 ],
 "metadata": {
  "kernelspec": {
   "display_name": "Python 3",
   "language": "python",
   "name": "python3"
  },
  "language_info": {
   "codemirror_mode": {
    "name": "ipython",
    "version": 3
   },
   "file_extension": ".py",
   "mimetype": "text/x-python",
   "name": "python",
   "nbconvert_exporter": "python",
   "pygments_lexer": "ipython3",
   "version": "3.11.4"
  },
  "orig_nbformat": 4
 },
 "nbformat": 4,
 "nbformat_minor": 2
}
